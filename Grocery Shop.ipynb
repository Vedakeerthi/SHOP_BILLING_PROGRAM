{
 "cells": [
  {
   "cell_type": "markdown",
   "id": "1a55dacd-4115-4918-8ca5-c83fd7777b59",
   "metadata": {},
   "source": [
    "# Shop billing\n",
    "\n",
    "#### This project is based on a shop, where it bills the amount of the user purchased items in the shop, here the items available in the shop are created as schemas in a database, the sql is connected with the python program using the mysql module, so based on the item available in the shop the schemas executed are : \n",
    "    * Vegetable schema\n",
    "    * Fruits schema\n",
    "    * Cereal schema\n",
    "    * Dairy products schema\n",
    "#### In the mentioned schemas along with the name of the product, the available quantity of the product in the shop, and its cost per kilogram are added, so if there is any change in the quantity or the rate or even a new record to be added or deleted then it must be made directly on the database."
   ]
  },
  {
   "cell_type": "markdown",
   "id": "d0ec4551-baea-45fc-939c-9820d8eed055",
   "metadata": {},
   "source": [
    "### Importing the required modules"
   ]
  },
  {
   "cell_type": "code",
   "execution_count": 108,
   "id": "667544b9-4d1c-4ee0-83cd-451969858d36",
   "metadata": {},
   "outputs": [],
   "source": [
    "import mysql.connector\n",
    "import datetime as dt\n",
    "import time"
   ]
  },
  {
   "cell_type": "markdown",
   "id": "e4d4d764-b93f-477e-83ef-36bef43f7baf",
   "metadata": {},
   "source": [
    "### Creating the database"
   ]
  },
  {
   "cell_type": "code",
   "execution_count": 2,
   "id": "7d21b11d-b510-47ef-bc07-84e5e3ee7acb",
   "metadata": {},
   "outputs": [],
   "source": [
    "mydb = mysql.connector.connect(host='localhost',user='root',password='*****',auth_plugin='mysql_native_password')\n",
    "mycursor = mydb.cursor()"
   ]
  },
  {
   "cell_type": "code",
   "execution_count": 3,
   "id": "4e4b194b-924e-42d9-a88e-c9dd609d3b50",
   "metadata": {},
   "outputs": [],
   "source": [
    "mycursor.execute('create database shop')"
   ]
  },
  {
   "cell_type": "code",
   "execution_count": 4,
   "id": "349880ab-6c46-4dc4-8b17-4914ef4ee567",
   "metadata": {},
   "outputs": [],
   "source": [
    "mycursor.execute('use shop')"
   ]
  },
  {
   "cell_type": "markdown",
   "id": "c0dfe528-99b9-47b7-9e5a-bba41dee3f47",
   "metadata": {},
   "source": [
    "### creating schema vegetable"
   ]
  },
  {
   "cell_type": "code",
   "execution_count": 5,
   "id": "373e8c37-9d0d-44c8-8c84-3b4ed921002e",
   "metadata": {},
   "outputs": [],
   "source": [
    "mycursor.execute('create table vegetable(Name varchar(300), Available_quantity_kg int,cost_per_kg int)')"
   ]
  },
  {
   "cell_type": "code",
   "execution_count": 6,
   "id": "f5f731a2-7923-4667-872f-e9ef5ea23eec",
   "metadata": {},
   "outputs": [],
   "source": [
    "command = 'insert into vegetable(Name, Available_quantity_kg, cost_per_kg) values(%s,%s,%s)'\n",
    "val = [('Carrot',100,40),\n",
    "      ('Onion',200,30),\n",
    "      ('Potato',400,35),\n",
    "      ('Tomato',100,50),\n",
    "      ('Drumstick',400,25),\n",
    "      ('Lemon',100,30),\n",
    "      ('Garlic',500,15)]"
   ]
  },
  {
   "cell_type": "code",
   "execution_count": 7,
   "id": "39797e97-ec3c-43e0-9f52-0b7e5c8c63b8",
   "metadata": {},
   "outputs": [],
   "source": [
    "mycursor.executemany(command,val)"
   ]
  },
  {
   "cell_type": "markdown",
   "id": "778d5d0f-402e-46d6-aafa-3f8186f16c0d",
   "metadata": {},
   "source": [
    "### creating schema fruits"
   ]
  },
  {
   "cell_type": "code",
   "execution_count": 8,
   "id": "205ae9ab-bd29-438e-ad08-e5e5c21ea96f",
   "metadata": {},
   "outputs": [],
   "source": [
    "mycursor.execute('create table fruits(Name varchar(300), Available_quantity_kg int,cost_per_kg int)')"
   ]
  },
  {
   "cell_type": "code",
   "execution_count": 9,
   "id": "8c4a568f-b37b-4912-bdcf-6851346b5dee",
   "metadata": {},
   "outputs": [],
   "source": [
    "command = 'insert into fruits(Name, Available_quantity_kg, cost_per_kg) values(%s,%s,%s)'\n",
    "val = [('Apple',100,60),\n",
    "      ('Mango',150,80),\n",
    "      ('Banana',100,50),\n",
    "      ('Kiwi',200,90),\n",
    "      ('Dragonfruit',500,100),\n",
    "      ('Watermelon',400,130),\n",
    "      ('Grapes',500,120)]"
   ]
  },
  {
   "cell_type": "code",
   "execution_count": 10,
   "id": "9aca21f9-ca21-4dea-b0d0-b8e9616502ae",
   "metadata": {},
   "outputs": [],
   "source": [
    "mycursor.executemany(command,val)"
   ]
  },
  {
   "cell_type": "markdown",
   "id": "1ed63b84-ffbc-4153-833f-7b7009c69b0f",
   "metadata": {},
   "source": [
    "### creating schema cereal"
   ]
  },
  {
   "cell_type": "code",
   "execution_count": 11,
   "id": "b1de65fa-8a27-4442-9c5f-9b276a3b0f76",
   "metadata": {},
   "outputs": [],
   "source": [
    "mycursor.execute('create table cereal(Name varchar(300), Available_quantity_kg int,cost_per_kg int)')"
   ]
  },
  {
   "cell_type": "code",
   "execution_count": 12,
   "id": "baec2cdd-38ac-46db-b395-f3e488c62015",
   "metadata": {},
   "outputs": [],
   "source": [
    "command = 'insert into cereal(Name, Available_quantity_kg, cost_per_kg) values(%s,%s,%s)'\n",
    "val = [('Wheat',500,600),\n",
    "      ('Barley',600,400),\n",
    "      ('Corn',400,700),\n",
    "      ('Millet',800,950),\n",
    "      ('Rye',500,400),\n",
    "      ('Oats',700,980),\n",
    "      ('Buckwheat',1000,800)]"
   ]
  },
  {
   "cell_type": "code",
   "execution_count": 13,
   "id": "de40a8d2-a1eb-4478-b8c5-0faa52266a88",
   "metadata": {},
   "outputs": [],
   "source": [
    "mycursor.executemany(command,val)"
   ]
  },
  {
   "cell_type": "markdown",
   "id": "9ef7cdc0-bf33-450e-9c4c-de45449b854e",
   "metadata": {},
   "source": [
    "### creating schema diary_products"
   ]
  },
  {
   "cell_type": "code",
   "execution_count": 14,
   "id": "7f2a5a89-61a4-4191-b7fe-e96d049185ec",
   "metadata": {},
   "outputs": [],
   "source": [
    "mycursor.execute('create table diary_products(Name varchar(300), Available_quantity_kg int,cost_per_kg int)')"
   ]
  },
  {
   "cell_type": "code",
   "execution_count": 15,
   "id": "5ecc7453-ed33-40f1-929d-d05444341268",
   "metadata": {},
   "outputs": [],
   "source": [
    "command = 'insert into diary_products(Name, Available_quantity_kg, cost_per_kg) values(%s,%s,%s)'\n",
    "val = [('Milk',100,40),\n",
    "('Curd',150,90),\n",
    "('Cheese',200,110),\n",
    "('Panner',100,150),\n",
    "('Butter',200,140),\n",
    "('Milk powder',400,70),\n",
    "('Sour cream',450,450)]"
   ]
  },
  {
   "cell_type": "code",
   "execution_count": 16,
   "id": "274790a0-687c-40c6-9dc2-abc638cb9c9b",
   "metadata": {},
   "outputs": [],
   "source": [
    "mycursor.executemany(command,val)"
   ]
  },
  {
   "cell_type": "markdown",
   "id": "b861f7f6-bbf9-441d-9d50-5e9e7c28bed0",
   "metadata": {},
   "source": [
    "### creating the main program"
   ]
  },
  {
   "cell_type": "code",
   "execution_count": 104,
   "id": "bbb23d2c-90d9-4fd5-9aac-c1230feb7483",
   "metadata": {},
   "outputs": [],
   "source": [
    "def main():\n",
    "    print('_'*100)\n",
    "    print('Welcome to Grocery Shop!'.center(100,'-'))\n",
    "    print('Contact us : 9029420021'.center(100,' '))\n",
    "    print('Address : Opp to annamalai university, Annamalai nagar, Chidambaram'.center(100,' '))\n",
    "    print(''.center(100,'-'))\n",
    "    print('_'*100)\n",
    "    cost = []\n",
    "    \n",
    "    while True:\n",
    "\n",
    "        user_input = int(input('\\n Press 1 for vegetable database and purchase \\n Press 2 for fruits database and purchase \\n Press 3 for cereals database and purchase \\n Press 4 for Dairy database and purchase \\n'))\n",
    "\n",
    "        if user_input == 1:\n",
    "            mycursor.execute('Select * from vegetable')\n",
    "            print('-'*32)\n",
    "            print('| Vegetable Name | Cost per kg |')\n",
    "            for i in mycursor.fetchall():\n",
    "                print('-'*32)\n",
    "                print(\"|\",i[0],\" \"*(13-len(i[0])),\"|\",i[2],\" \"*(10-len(str(i[2]))),\"|\")\n",
    "                print('-'*32)\n",
    "            while True:\n",
    "                    name = input('Enter the name of the vegetable : ')\n",
    "                    quantity = int(input('Enter the quantity in kg of the vegetable : '))\n",
    "                    mycursor.execute(f\"select * from vegetable where name = '{name}'\")\n",
    "                    result = mycursor.fetchone()\n",
    "                    if (quantity < result[1]):\n",
    "                        cost.append(quantity*result[2])\n",
    "                    buy = input('If you want any other vegetable Y/N : ')\n",
    "                    if buy=='Y':\n",
    "                        continue\n",
    "                    else:\n",
    "                        break\n",
    "                \n",
    "        elif user_input == 2:\n",
    "            mycursor.execute('Select * from fruits')\n",
    "            print('-'*24)\n",
    "            print('| Fruits Name | Cost per kg |')\n",
    "            for i in mycursor.fetchall():\n",
    "                print('-'*24)\n",
    "                print(\"|\",i[0],\" \"*(10-len(i[0])),\"|\",i[2],\" \"*(9-len(str(i[2]))),\"|\")\n",
    "                print('-'*24)\n",
    "                \n",
    "            while True:\n",
    "                    name = input('Enter the name of the fruit : ')\n",
    "                    quantity = int(input('Enter the quantity in kg of the vegetable : '))\n",
    "                    mycursor.execute(f\"select * from fruits where name = '{name}'\")\n",
    "                    result = mycursor.fetchone()\n",
    "\n",
    "                    if (quantity < result[1]):\n",
    "                        cost.append(quantity*result[2])\n",
    "                    buy = input('If you want any other fruits Y/N : ')\n",
    "                    if buy=='Y':\n",
    "                        continue\n",
    "                    else:\n",
    "                        break\n",
    "                \n",
    "        elif user_input == 3:\n",
    "            mycursor.execute('Select * from cereal')\n",
    "            print('-'*27)\n",
    "            print('| Cereal Name | Cost per kg |')\n",
    "            for i in mycursor.fetchall():\n",
    "                print('-'*27)\n",
    "                print(\"|\",i[0],\" \"*(10-len(i[0])),\"|\",i[2],\" \"*(9-len(str(i[2]))),\"|\")\n",
    "                print('-'*27)\n",
    "            while True:\n",
    "                    name = input('Enter the name of the cereal : ')\n",
    "                    quantity = int(input('Enter the quantity in kg of the cereal : '))\n",
    "                    mycursor.execute(f\"select * from cereal where name = '{name}'\")\n",
    "                    result = mycursor.fetchone()\n",
    "                    if (quantity < result[1]):  \n",
    "                        cost.append(quantity*result[2])\n",
    "                    buy = input('If you want any other cereal Y/N : ')\n",
    "                    if buy=='Y':\n",
    "                        continue\n",
    "                    else:\n",
    "                        break\n",
    "                \n",
    "        elif user_input == 4:\n",
    "            mycursor.execute('Select * from diary_products')\n",
    "            print('-'*35)\n",
    "            print('| Diary products Name | Cost per kg |')\n",
    "            for i in mycursor.fetchall():\n",
    "                print('-'*35)\n",
    "                print(\"|\",i[0],\" \"*(17-len(i[0])),\"|\",i[2],\" \"*(9-len(str(i[2]))),\"|\")\n",
    "                print('-'*35)\n",
    "            \n",
    "            while True:\n",
    "                    name = input('Enter the name of the diary product : ')\n",
    "                    quantity = int(input('Enter the quantity in kg of the diary product : '))\n",
    "                    mycursor.execute(f\"select * from diary_products where name = '{name}'\")\n",
    "                    result = mycursor.fetchone()\n",
    "\n",
    "                    if (quantity < result[1]):\n",
    "\n",
    "                        cost.append(quantity*result[2])\n",
    "                    buy = input('If you want any other diary products Y/N : ')\n",
    "                    if buy=='Y':\n",
    "                        continue\n",
    "                    else:\n",
    "                        break\n",
    "        \n",
    "        else:\n",
    "            print('Check your choice')\n",
    "\n",
    "        print('-'*32)\n",
    "        a = input('You want to continue shopping Y/N : ')\n",
    "        if a=='Y':\n",
    "            continue \n",
    "        else:\n",
    "            break\n",
    "    \n",
    "    return sum(cost)"
   ]
  },
  {
   "cell_type": "markdown",
   "id": "96d20d9b-4aa9-43cd-aec4-40b88c561094",
   "metadata": {},
   "source": [
    "### Creating the bill function to print the bill"
   ]
  },
  {
   "cell_type": "code",
   "execution_count": 109,
   "id": "c3db992b-ea76-4254-a5e9-a275a563dc3e",
   "metadata": {},
   "outputs": [],
   "source": [
    "def bill(cost):\n",
    "    print('\\n\\n\\n')\n",
    "    print('_'*100)\n",
    "    print('DATE : ',dt.date.today().strftime('%B %d,%Y'))\n",
    "    print('TIME : ',dt.datetime.now().strftime('%H:%M:%S'))\n",
    "    print('Thanks for purchasing! Your bill is been processing'.center(100,' '))\n",
    "    time.sleep(5)\n",
    "    print(''.center(100,'-'))\n",
    "    print('Total Amount'.center(50,' '),\":\",str(cost).center(50,' '))\n",
    "    print(''.center(100,'-'))\n",
    "    print('!!!Please visit again!!!'.center(100,' '))\n",
    "    print('_'*100)\n",
    "    "
   ]
  },
  {
   "cell_type": "code",
   "execution_count": 110,
   "id": "303c65ab-2d7d-45d6-9369-7ff64cbe9b0c",
   "metadata": {},
   "outputs": [
    {
     "name": "stdout",
     "output_type": "stream",
     "text": [
      "____________________________________________________________________________________________________\n",
      "--------------------------------------Welcome to Grocery Shop!--------------------------------------\n",
      "                                      Contact us : 9029420021                                       \n",
      "                Address : Opp to annamalai university, Annamalai nagar, Chidambaram                 \n",
      "----------------------------------------------------------------------------------------------------\n",
      "____________________________________________________________________________________________________\n"
     ]
    },
    {
     "name": "stdin",
     "output_type": "stream",
     "text": [
      "\n",
      " Press 1 for vegetable database and purchase \n",
      " Press 2 for fruits database and purchase \n",
      " Press 3 for cereals database and purchase \n",
      " Press 4 for Dairy database and purchase \n",
      " 1\n"
     ]
    },
    {
     "name": "stdout",
     "output_type": "stream",
     "text": [
      "--------------------------------\n",
      "| Vegetable Name | Cost per kg |\n",
      "--------------------------------\n",
      "| Carrot         | 40          |\n",
      "--------------------------------\n",
      "--------------------------------\n",
      "| Onion          | 30          |\n",
      "--------------------------------\n",
      "--------------------------------\n",
      "| Potato         | 35          |\n",
      "--------------------------------\n",
      "--------------------------------\n",
      "| Tomato         | 50          |\n",
      "--------------------------------\n",
      "--------------------------------\n",
      "| Drumstick      | 25          |\n",
      "--------------------------------\n",
      "--------------------------------\n",
      "| Lemon          | 30          |\n",
      "--------------------------------\n",
      "--------------------------------\n",
      "| Garlic         | 15          |\n",
      "--------------------------------\n"
     ]
    },
    {
     "name": "stdin",
     "output_type": "stream",
     "text": [
      "Enter the name of the vegetable :  Carrot\n",
      "Enter the quantity in kg of the vegetable :  2\n",
      "If you want any other vegetable Y/N :  N\n"
     ]
    },
    {
     "name": "stdout",
     "output_type": "stream",
     "text": [
      "--------------------------------\n"
     ]
    },
    {
     "name": "stdin",
     "output_type": "stream",
     "text": [
      "You want to continue shopping Y/N :  N\n"
     ]
    },
    {
     "name": "stdout",
     "output_type": "stream",
     "text": [
      "\n",
      "\n",
      "\n",
      "\n",
      "____________________________________________________________________________________________________\n",
      "DATE :  March 08,2022\n",
      "TIME :  19:58:03\n",
      "                        Thanks for purchasing! Your bill is been processing                         \n",
      "----------------------------------------------------------------------------------------------------\n",
      "                   Total Amount                    :                         80                        \n",
      "----------------------------------------------------------------------------------------------------\n",
      "                                      !!!Please visit again!!!                                      \n",
      "____________________________________________________________________________________________________\n"
     ]
    }
   ],
   "source": [
    "bill(main())"
   ]
  }
 ],
 "metadata": {
  "kernelspec": {
   "display_name": "Python 3 (ipykernel)",
   "language": "python",
   "name": "python3"
  },
  "language_info": {
   "codemirror_mode": {
    "name": "ipython",
    "version": 3
   },
   "file_extension": ".py",
   "mimetype": "text/x-python",
   "name": "python",
   "nbconvert_exporter": "python",
   "pygments_lexer": "ipython3",
   "version": "3.8.8"
  }
 },
 "nbformat": 4,
 "nbformat_minor": 5
}
